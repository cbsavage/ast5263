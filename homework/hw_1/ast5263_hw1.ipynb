{
 "cells": [
  {
   "cell_type": "code",
   "execution_count": null,
   "metadata": {},
   "outputs": [],
   "source": [
    "# Catalina Savage\n",
    "# AST 5263 - Advanced Observational Astronomy\n",
    "# Homework 1"
   ]
  },
  {
   "cell_type": "code",
   "execution_count": 1,
   "metadata": {},
   "outputs": [
    {
     "name": "stderr",
     "output_type": "stream",
     "text": [
      "c:\\Users\\savag\\anaconda3\\Lib\\site-packages\\pandas\\core\\arrays\\masked.py:60: UserWarning: Pandas requires version '1.3.6' or newer of 'bottleneck' (version '1.3.5' currently installed).\n",
      "  from pandas.core import (\n"
     ]
    }
   ],
   "source": [
    "# import necessary packages\n",
    "import numpy as np\n",
    "import matplotlib.pyplot as plt\n",
    "import pandas as pd\n",
    "from scipy.integrate import *\n",
    "# from astropy import *"
   ]
  },
  {
   "cell_type": "code",
   "execution_count": null,
   "metadata": {},
   "outputs": [],
   "source": []
  },
  {
   "cell_type": "code",
   "execution_count": null,
   "metadata": {},
   "outputs": [],
   "source": [
    "# Problem 1"
   ]
  },
  {
   "cell_type": "code",
   "execution_count": null,
   "metadata": {},
   "outputs": [],
   "source": [
    "# PART A"
   ]
  },
  {
   "cell_type": "code",
   "execution_count": 24,
   "metadata": {},
   "outputs": [],
   "source": [
    "# formulas\n",
    "\n",
    "# freq = c / wv, convert wavelength to frequency\n",
    "# B_freq = ( 2*h*(v**3) / c**2 ) * ( 1 / np.exp(h*v/k*T_a)-1 ) # * C_a = F_a\n",
    "# F_a = Bv*Ta # in terms of C_a\n",
    "# F_b = Bv*Tb # in terms of C_a\n",
    "\n",
    "\n",
    "\n",
    "\n",
    "# F_a = B_freq * C_a\n",
    "# F_b = F_a / ratio"
   ]
  },
  {
   "cell_type": "code",
   "execution_count": 2,
   "metadata": {},
   "outputs": [],
   "source": [
    "# constants\n",
    "k = 1.38e-23  # Stefan-Boltzmann constant, J/K\n",
    "h = 6.626e-34 # Planck's constant, J/Hz\n",
    "c = 3e+8      # m/s\n",
    "T_a = 2000    # Kelvin\n",
    "C_a = 1       # (in proper units) THIS IS AN ASSUMPTION"
   ]
  },
  {
   "cell_type": "code",
   "execution_count": 3,
   "metadata": {},
   "outputs": [],
   "source": [
    "# values\n",
    "wv_a = [ 0.37, 0.44, 0.55, 0.70, 1.20, 1.60, 2.20, 3.60 ]                # star A's wavelength, microns\n",
    "mg_a = [ 9.432, 7.196, 4.839, 2.832, -0.148, -1.126, -1.871, -2.410 ]    # star A's magnitude\n",
    "\n",
    "wv_b = [ 5.00, 8.90, 9.70, 10.60, 11.70, 12.50, 18.70, 20.60 ]           # star B's wavelength, microns\n",
    "mg_b = [ -2.107, -0.966, -0.822, -0.685, -0.548, -0.464, -0.069, 0.002 ] # star B's magnitude"
   ]
  },
  {
   "cell_type": "code",
   "execution_count": 4,
   "metadata": {},
   "outputs": [
    {
     "name": "stdout",
     "output_type": "stream",
     "text": [
      "all wavelength values in a list: [0.37, 0.44, 0.55, 0.7, 1.2, 1.6, 2.2, 3.6, 5.0, 8.9, 9.7, 10.6, 11.7, 12.5, 18.7, 20.6]\n",
      "all magnitude values in a list:  [9.432, 7.196, 4.839, 2.832, -0.148, -1.126, -1.871, -2.41, -2.107, -0.966, -0.822, -0.685, -0.548, -0.464, -0.069, 0.002]\n"
     ]
    }
   ],
   "source": [
    "# combine all wavelengths and magnitudes to their own lists cuz why not\n",
    "all_wv = wv_a + wv_b\n",
    "all_mg = mg_a + mg_b\n",
    "print( 'all wavelength values in a list:', all_wv )\n",
    "print( 'all magnitude values in a list: ', all_mg )"
   ]
  },
  {
   "cell_type": "code",
   "execution_count": 5,
   "metadata": {},
   "outputs": [
    {
     "name": "stdout",
     "output_type": "stream",
     "text": [
      "[810810810.8108108, 681818181.8181819, 545454545.4545454, 428571428.5714286, 250000000.0, 187500000.0, 136363636.36363634, 83333333.33333333]\n",
      "[60000000.0, 33707865.16853932, 30927835.051546395, 28301886.79245283, 25641025.641025644, 24000000.0, 16042780.748663101, 14563106.796116503]\n"
     ]
    }
   ],
   "source": [
    "# convert wavelength to frequency\n",
    "# freq = c / wv\n",
    "\n",
    "freq_a = [ c/wv for wv in wv_a ]\n",
    "print( freq_a )\n",
    "\n",
    "freq_b = [ c/wv for wv in wv_b ]\n",
    "print( freq_b )"
   ]
  },
  {
   "cell_type": "code",
   "execution_count": 6,
   "metadata": {},
   "outputs": [
    {
     "name": "stdout",
     "output_type": "stream",
     "text": [
      "[0.00016873298906258031, 0.001323122333113371, 0.011598451211901664, 0.07365462114702309, 1.1460405911366027, 2.8209799536634286, 5.6027339479379705, 9.204495717531715]\n",
      "[6.963057796029317, 2.434445183692201, 2.1320628358116562, 1.8793168168032686, 1.6565326493180184, 1.5332041990349143, 1.065614202158519, 0.9981596274917243]\n"
     ]
    }
   ],
   "source": [
    "# ratio = 10**( -0.4*mg )\n",
    "ratio_a = [ 10**( -0.4*mg ) for mg in mg_a ]\n",
    "ratio_b = [ 10**( -0.4*mg ) for mg in mg_b ]\n",
    "\n",
    "print( ratio_a )\n",
    "print( ratio_b )"
   ]
  },
  {
   "cell_type": "code",
   "execution_count": 7,
   "metadata": {},
   "outputs": [
    {
     "ename": "TypeError",
     "evalue": "unsupported operand type(s) for ** or pow(): 'list' and 'int'",
     "output_type": "error",
     "traceback": [
      "\u001b[1;31m---------------------------------------------------------------------------\u001b[0m",
      "\u001b[1;31mTypeError\u001b[0m                                 Traceback (most recent call last)",
      "Cell \u001b[1;32mIn[7], line 1\u001b[0m\n\u001b[1;32m----> 1\u001b[0m Bfreq_a \u001b[38;5;241m=\u001b[39m ( \u001b[38;5;241m2\u001b[39m\u001b[38;5;241m*\u001b[39mh\u001b[38;5;241m*\u001b[39m(freq_a\u001b[38;5;241m*\u001b[39m\u001b[38;5;241m*\u001b[39m\u001b[38;5;241m3\u001b[39m) \u001b[38;5;241m/\u001b[39m c\u001b[38;5;241m*\u001b[39m\u001b[38;5;241m*\u001b[39m\u001b[38;5;241m2\u001b[39m ) \u001b[38;5;241m*\u001b[39m ( \u001b[38;5;241m1\u001b[39m \u001b[38;5;241m/\u001b[39m np\u001b[38;5;241m.\u001b[39mexp( h\u001b[38;5;241m*\u001b[39mfreq_a\u001b[38;5;241m/\u001b[39mk\u001b[38;5;241m*\u001b[39mT_a )\u001b[38;5;241m-\u001b[39m\u001b[38;5;241m1\u001b[39m )\n\u001b[0;32m      2\u001b[0m \u001b[38;5;28mprint\u001b[39m( \u001b[38;5;124m'\u001b[39m\u001b[38;5;124mthe 16 frequency values of Star A:\u001b[39m\u001b[38;5;124m'\u001b[39m, Bfreq_a )\n",
      "\u001b[1;31mTypeError\u001b[0m: unsupported operand type(s) for ** or pow(): 'list' and 'int'"
     ]
    }
   ],
   "source": [
    "Bfreq_a = ( 2*h*(freq_a**3) / c**2 ) * ( 1 / np.exp( h*freq_a/k*T_a )-1 )\n",
    "print( 'the 16 frequency values of Star A:', Bfreq_a )\n",
    "# Why doesn't this work...\n",
    "# (I'm sleepy so I'm forgetting things.)"
   ]
  },
  {
   "cell_type": "code",
   "execution_count": 7,
   "metadata": {},
   "outputs": [
    {
     "name": "stdout",
     "output_type": "stream",
     "text": [
      "the 16 frequency values of Star A: [-7.848696029850155e-24, -4.667073628850489e-24, -2.389541697971449e-24, -1.1590670553935862e-24, -2.300694444358217e-25, -9.706054540478191e-26, -3.7336512275485204e-26, -8.518238923831077e-27]\n"
     ]
    }
   ],
   "source": [
    "# ...but this does?\n",
    "Bfreq_a = [ (( 2*h*(freq**3) / c**2 ) * ( 1 / np.exp( h*freq/k*T_a )-1 )) for freq in freq_a ]\n",
    "print( 'the 16 frequency values of Star A:', Bfreq_a )"
   ]
  },
  {
   "cell_type": "code",
   "execution_count": 8,
   "metadata": {},
   "outputs": [],
   "source": [
    "F_a = [ B_freq * C_a for B_freq in Bfreq_a ]\n",
    "F_b = []"
   ]
  },
  {
   "cell_type": "code",
   "execution_count": 24,
   "metadata": {},
   "outputs": [
    {
     "name": "stdout",
     "output_type": "stream",
     "text": [
      "Amount of wavelengths for Star B: 8\n",
      "last value in wv_b: 20.6\n",
      "last value in wv_a: 3.6\n"
     ]
    }
   ],
   "source": [
    "len_wvb = len( wv_b )\n",
    "idx_b = wv_b[ i ]\n",
    "print( 'Amount of wavelengths for Star B:', len_wvb )\n",
    "print( 'last value in wv_b:', idx_b )\n",
    "print( 'last value in wv_a:', wv_a[i] )"
   ]
  },
  {
   "cell_type": "code",
   "execution_count": 15,
   "metadata": {},
   "outputs": [
    {
     "name": "stdout",
     "output_type": "stream",
     "text": [
      "5.0 -1.2233474392081884e-27\n",
      "8.9 -3.499047331561556e-27\n",
      "9.7 -3.995303881645807e-27\n",
      "10.6 -4.5326252857784045e-27\n",
      "11.7 -5.142210102129874e-27\n",
      "12.5 -5.555841113136098e-27\n",
      "18.7 -7.99373629459559e-27\n",
      "20.6 -8.533944560787901e-27\n"
     ]
    }
   ],
   "source": [
    "for i in range( len_wvb ):\n",
    "    idx_a = wv_a.index( min(wv_a, key=lambda x:abs( x - idx_b )) )\n",
    "    F_b.append( F_a[idx_a] / ratio_b[i] )\n",
    "    print( wv_b[i], F_b[i] )"
   ]
  },
  {
   "cell_type": "code",
   "execution_count": 11,
   "metadata": {},
   "outputs": [
    {
     "name": "stdout",
     "output_type": "stream",
     "text": [
      "[-1.2233474392081884e-27, -3.499047331561556e-27, -3.995303881645807e-27, -4.5326252857784045e-27, -5.142210102129874e-27, -5.555841113136098e-27, -7.99373629459559e-27, -8.533944560787901e-27]\n"
     ]
    }
   ],
   "source": [
    "print( F_b )"
   ]
  },
  {
   "cell_type": "code",
   "execution_count": 12,
   "metadata": {},
   "outputs": [
    {
     "data": {
      "image/png": "[encoded data removed]",
      "text/plain": [
       "<Figure size 800x600 with 1 Axes>"
      ]
     },
     "metadata": {},
     "output_type": "display_data"
    }
   ],
   "source": [
    "# PART B, LOG-LOG PLOT\n",
    "# plot flux vs wavelength\n",
    "\n",
    "plt.figure( figsize=(8,6) )\n",
    "plt.plot( wv_b, F_b, marker='o' )\n",
    "\n",
    "plt.xlabel( 'Wavelength (micron)', fontsize=12 )\n",
    "plt.ylabel( 'Flux Density (W/m**2)', fontsize=12 )\n",
    "\n",
    "plt.title( \"Wavelength vs. Star B's Flux Density\", fontsize=16 )\n",
    "\n",
    "plt.show()"
   ]
  },
  {
   "cell_type": "code",
   "execution_count": 26,
   "metadata": {},
   "outputs": [],
   "source": [
    "# PART C\n",
    "\n",
    "wv_arr   = np.array( wv_a )\n",
    "freq_arr = np.array( freq_a )\n",
    "\n",
    "peak_b = [] # empty list to store with calculated Planck function temperatures for Star B"
   ]
  },
  {
   "cell_type": "code",
   "execution_count": 33,
   "metadata": {},
   "outputs": [],
   "source": [
    "for idx_b in wv_b:\n",
    "    if idx_b <= wv_arr[ 0 ]:\n",
    "        peak_b.append( freq_arr[0] )\n",
    "        # print( 'a:', freq_arr[0] )\n",
    "    elif idx_b >= wv_arr[ -1 ]:\n",
    "        peak_b.append( freq_arr[-1] )\n",
    "        # print( 'b:', freq_arr[-1] )\n",
    "    else:\n",
    "        idx = np.sorted( wv_arr, idx_b )\n",
    "        \n",
    "        wv_0   = wv_arr[ idx - 1 ] \n",
    "        freq_0 = freq_arr[ idx - 1 ]\n",
    "        \n",
    "        wv_1   = wv_arr[ idx ]\n",
    "        freq_1 = freq_arr[ idx ]\n",
    "        \n",
    "        interpolate = ( freq_0 + (freq_1-freq_0)*(idx_b-wv_0) )/ (wv_1-wv_0)\n",
    "        peak_b.append( interpolate )\n",
    "        # print( 'c:', interpolate )\n",
    "\n",
    "Kelvin = [ h*c / k*peak for peak in peak_b ]\n"
   ]
  },
  {
   "cell_type": "code",
   "execution_count": 36,
   "metadata": {},
   "outputs": [
    {
     "name": "stdout",
     "output_type": "stream",
     "text": [
      "Temperature of the Planck functions of B's spectrum in Kelvins: 1200362.3188405796\n",
      "Peak frequency of Star B in Hz: 83333333.33333333\n"
     ]
    }
   ],
   "source": [
    "K_i    = Kelvin[ i ]\n",
    "peak_i = peak_b[ i ]\n",
    "\n",
    "# print( \"Temperatures of the Planck functions of B's spectrum:\", Kelvin )\n",
    "# print( 'Peak frequencies of Star B:', peak_b )\n",
    "print( \"Temperature of the Planck functions of B's spectrum in Kelvins:\", K_i )\n",
    "print( 'Peak frequency of Star B in Hz:', peak_i )"
   ]
  },
  {
   "cell_type": "code",
   "execution_count": 21,
   "metadata": {},
   "outputs": [],
   "source": [
    "# if idx_b <= wv_arr[ 0 ]:\n",
    "#     print( 'a:', freq_arr[0] )\n",
    "# elif idx_b >= wv_arr[ 0 ]:\n",
    "#     print( 'b:', freq_arr[-1] )\n",
    "# else:\n",
    "#     idx = np.sorted( wv_arr, idx_b )\n",
    "#     # idx = np.sorted( wv_arr, x )\n",
    "    \n",
    "#     wv_0   = wv_arr[ idx - 1 ] \n",
    "#     freq_0 = freq_arr[ idx - 1 ]\n",
    "\n",
    "#     wv_1   = wv_arr[ idx ]\n",
    "#     freq_1 = freq_arr[ idx ]\n",
    "\n",
    "#     interpolate = ( freq_0 + (freq_1-freq_0)*(idx_b-wv_0) )/ (wv_1-wv_0)\n",
    "\n",
    "#     print( 'c:', interpolate )"
   ]
  },
  {
   "cell_type": "code",
   "execution_count": null,
   "metadata": {},
   "outputs": [],
   "source": []
  },
  {
   "cell_type": "code",
   "execution_count": null,
   "metadata": {},
   "outputs": [],
   "source": [
    "\n",
    "# Problem 2"
   ]
  },
  {
   "cell_type": "code",
   "execution_count": 2,
   "metadata": {},
   "outputs": [],
   "source": [
    "# Problem 2, Part A\n",
    "\n",
    "# read in data files\n",
    "sol_spec = pd.read_table( 'SolarSpectrum.txt', delimiter='\\t' )\n",
    "jc_filt  = pd.read_table( 'Johnson-Cousin_Filters.txt', delimiter='\\t' )"
   ]
  },
  {
   "cell_type": "code",
   "execution_count": 3,
   "metadata": {},
   "outputs": [],
   "source": [
    "spec = pd.DataFrame( sol_spec )\n",
    "filt = pd.DataFrame( jc_filt )\n",
    "\n",
    "flux = pd.merge( spec, filt, on='Wavelength (nm)' )"
   ]
  },
  {
   "cell_type": "code",
   "execution_count": 4,
   "metadata": {},
   "outputs": [],
   "source": [
    "wvl = flux[ flux.columns[0] ] # wavelength values\n",
    "sol = flux[ flux.columns[1] ] # solar spectra\n",
    "B   = flux[ flux.columns[3] ] # B-filter\n",
    "V   = flux[ flux.columns[4] ] # V-filter"
   ]
  },
  {
   "cell_type": "code",
   "execution_count": 41,
   "metadata": {},
   "outputs": [
    {
     "name": "stdout",
     "output_type": "stream",
     "text": [
      "Flux density average (B-filter): 78.08123825\n",
      "Flux density average (V-filter): 98.64033\n"
     ]
    }
   ],
   "source": [
    "Bint = np.trapz( B, wvl ) # integrate B-filter flux\n",
    "print( 'Flux density average (B-filter):', Bint )\n",
    "\n",
    "Vint = np.trapz( V, wvl ) # integrate V-filter flux\n",
    "print( 'Flux density average (V-filter):', Vint )"
   ]
  },
  {
   "cell_type": "code",
   "execution_count": 5,
   "metadata": {},
   "outputs": [
    {
     "name": "stdout",
     "output_type": "stream",
     "text": [
      "Flux density average (B-filter): 78.08037221527778\n",
      "Flux density average (V-filter): 98.63839371329365\n"
     ]
    }
   ],
   "source": [
    "B_int = simpson( B, wvl ) # integrate B-filter flux\n",
    "print( 'Flux density average (B-filter):', B_int )\n",
    "\n",
    "V_int = simpson( V, wvl ) # integrate V-filter flux\n",
    "print( 'Flux density average (V-filter):', V_int )\n",
    "# should be more accurate than np.trapz()"
   ]
  },
  {
   "cell_type": "code",
   "execution_count": 27,
   "metadata": {},
   "outputs": [
    {
     "name": "stdout",
     "output_type": "stream",
     "text": [
      "0.7748493276406371\n"
     ]
    }
   ],
   "source": [
    "# integrate filters by solar flux density\n",
    "B_sol = simpson( B, sol )\n",
    "# B_sol = B * sol\n",
    "print( B_sol )"
   ]
  },
  {
   "cell_type": "code",
   "execution_count": 28,
   "metadata": {},
   "outputs": [
    {
     "name": "stdout",
     "output_type": "stream",
     "text": [
      "-0.23536696777302005\n"
     ]
    }
   ],
   "source": [
    "V_sol = simpson( V, sol )\n",
    "# V_sol = V * sol\n",
    "print( V_sol )"
   ]
  },
  {
   "cell_type": "code",
   "execution_count": 24,
   "metadata": {},
   "outputs": [
    {
     "name": "stdout",
     "output_type": "stream",
     "text": [
      "135.03051467959622 181.1813987170129\n"
     ]
    }
   ],
   "source": [
    "B_wvl = simpson( B_sol, wvl )\n",
    "V_wvl = simpson( V_sol, wvl )\n",
    "\n",
    "print( B_wvl, V_wvl )"
   ]
  },
  {
   "cell_type": "code",
   "execution_count": 39,
   "metadata": {},
   "outputs": [
    {
     "name": "stdout",
     "output_type": "stream",
     "text": [
      "B- and V-filter average of the Sun's flux density: 0.7452780232174953\n",
      "B - V color of the Sun: -46.15088403741669\n"
     ]
    }
   ],
   "source": [
    "print( \"B- and V-filter average of the Sun's flux density:\", B_wvl / V_wvl )\n",
    "print( \"B - V color of the Sun:\", B_wvl - V_wvl )"
   ]
  },
  {
   "cell_type": "code",
   "execution_count": null,
   "metadata": {},
   "outputs": [],
   "source": [
    "# I spoke to my classmates and they said that the answer should be around 0.76.\n",
    "# I definitely messed up my code. :("
   ]
  },
  {
   "cell_type": "code",
   "execution_count": null,
   "metadata": {},
   "outputs": [],
   "source": [
    "# B_wvl = np.trapz( B_sol, wvl )\n",
    "# V_wvl = np.trapz( V_sol, wvl )\n",
    "\n",
    "# print( B_wvl, V_wvl )"
   ]
  },
  {
   "cell_type": "code",
   "execution_count": 10,
   "metadata": {},
   "outputs": [],
   "source": [
    "# B_avg = np.trapz( B_wvl, B_int )\n",
    "# V_avg = np.trapz( V_wvl, V_int )\n",
    "\n",
    "# print( B_avg, V_avg )"
   ]
  },
  {
   "cell_type": "code",
   "execution_count": 42,
   "metadata": {},
   "outputs": [
    {
     "name": "stdout",
     "output_type": "stream",
     "text": [
      "-1.9e-05\n"
     ]
    }
   ],
   "source": [
    "print( B[0] - V[0] )"
   ]
  },
  {
   "cell_type": "code",
   "execution_count": null,
   "metadata": {},
   "outputs": [],
   "source": []
  },
  {
   "cell_type": "code",
   "execution_count": null,
   "metadata": {},
   "outputs": [],
   "source": [
    "# Problem 3\n",
    "# 3a: plot solid angle as a function of lunar phase's phase angle, alpha"
   ]
  },
  {
   "cell_type": "code",
   "execution_count": null,
   "metadata": {},
   "outputs": [],
   "source": [
    "# might have to convert smth??\n",
    "#  Date__(UT)__HR:MN       APmag   S-brt       phi  PAB-LON  PAB-LAT\n",
    "# alpha = phi column, already in degrees"
   ]
  },
  {
   "cell_type": "code",
   "execution_count": null,
   "metadata": {},
   "outputs": [],
   "source": [
    "plt.figure( figsize=(8,6) )\n",
    "# plt.plot( phase_angle, solid angle )\n",
    "\n",
    "plt.xlabel()\n",
    "plt.ylabel()\n",
    "\n",
    "plt.show()"
   ]
  },
  {
   "cell_type": "code",
   "execution_count": null,
   "metadata": {},
   "outputs": [],
   "source": []
  },
  {
   "cell_type": "code",
   "execution_count": null,
   "metadata": {},
   "outputs": [],
   "source": []
  }
 ],
 "metadata": {
  "kernelspec": {
   "display_name": "Python 3 (ipykernel)",
   "language": "python",
   "name": "python3"
  },
  "language_info": {
   "codemirror_mode": {
    "name": "ipython",
    "version": 3
   },
   "file_extension": ".py",
   "mimetype": "text/x-python",
   "name": "python",
   "nbconvert_exporter": "python",
   "pygments_lexer": "ipython3",
   "version": "3.11.5"
  }
 },
 "nbformat": 4,
 "nbformat_minor": 2
}
