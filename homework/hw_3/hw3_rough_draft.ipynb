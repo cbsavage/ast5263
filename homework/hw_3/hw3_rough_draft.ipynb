{
 "cells": [
  {
   "cell_type": "code",
   "execution_count": 1,
   "metadata": {},
   "outputs": [],
   "source": [
    "import numpy as numerical_package_of_python\n",
    "import matplotlib.pyplot as plotting_package_of_python"
   ]
  },
  {
   "cell_type": "code",
   "execution_count": null,
   "metadata": {},
   "outputs": [],
   "source": []
  },
  {
   "cell_type": "code",
   "execution_count": 34,
   "metadata": {},
   "outputs": [],
   "source": [
    "del_theta = numerical_package_of_python.linspace( (1/3600), 10, 10000 )\n",
    "# Point P, degrees\n",
    "P_lat = numerical_package_of_python.radians( 45 )\n",
    "P_lon = numerical_package_of_python.radians( 50 )\n",
    "# Point Q, in degrees\n",
    "# Q_lat = 45 + del_theta # 45 degrees and 30 arcsec\n",
    "# Q_lon = 50 + del_theta # 50 degrees and 30 arcsec\n",
    "Q_lat = P_lat + del_theta\n",
    "Q_lon = P_lon + del_theta"
   ]
  },
  {
   "cell_type": "code",
   "execution_count": 35,
   "metadata": {},
   "outputs": [],
   "source": [
    "diff_lat = Q_lat - P_lat\n",
    "diff_lon = Q_lon - P_lon\n",
    "# rad_lat = np.radians( Q_lat - P_lat )\n",
    "# rad_lon = np.radians( Q_lon - P_lon )"
   ]
  },
  {
   "cell_type": "code",
   "execution_count": null,
   "metadata": {},
   "outputs": [],
   "source": [
    "# a_dist = np.sin( diff_lat/2 )**2 + np.cos( np.radians(P_lat) ) * np.cos( np.radians(Q_lat) ) * np.sin( diff_lon/2 )**2\n",
    "# s_sph = np.degrees( 2*np.arctan2( np.sqrt(a_dist), np.sqrt(1-a_dist) ) )\n",
    "# s_euc = np.sqrt( diff_lat**2 + (diff_lon*np.cos(np.radians(P_lat)))**2 )\n",
    "# del_s = s_euc - s_sph"
   ]
  },
  {
   "cell_type": "code",
   "execution_count": 39,
   "metadata": {},
   "outputs": [
    {
     "ename": "IndexError",
     "evalue": "index 1000 is out of bounds for axis 0 with size 1000",
     "output_type": "error",
     "traceback": [
      "\u001b[1;31m---------------------------------------------------------------------------\u001b[0m",
      "\u001b[1;31mIndexError\u001b[0m                                Traceback (most recent call last)",
      "Cell \u001b[1;32mIn[39], line 27\u001b[0m\n\u001b[0;32m     15\u001b[0m acc_idx \u001b[38;5;241m=\u001b[39m numerical_package_of_python\u001b[38;5;241m.\u001b[39mwhere( del_arcsec \u001b[38;5;241m>\u001b[39m \u001b[38;5;241m0\u001b[39m )[\u001b[38;5;241m0\u001b[39m]\n\u001b[0;32m     16\u001b[0m \u001b[38;5;66;03m# del_idx2 = numerical_package_of_python.argmax( del_arcsec > 0, axis=0 ) - 1\u001b[39;00m\n\u001b[0;32m     17\u001b[0m \n\u001b[0;32m     18\u001b[0m \u001b[38;5;66;03m# ranges = []\u001b[39;00m\n\u001b[1;32m   (...)\u001b[0m\n\u001b[0;32m     24\u001b[0m \u001b[38;5;66;03m#     idx2 = del_idx[-1]\u001b[39;00m\n\u001b[0;32m     25\u001b[0m \u001b[38;5;66;03m#     ranges.append( (del_theta[idx1], del_theta[idx2]) )\u001b[39;00m\n\u001b[1;32m---> 27\u001b[0m del_max \u001b[38;5;241m=\u001b[39m [ \u001b[43mdel_theta\u001b[49m\u001b[43m[\u001b[49m\u001b[43midx\u001b[49m\u001b[43m]\u001b[49m \u001b[38;5;28;01mfor\u001b[39;00m idx \u001b[38;5;129;01min\u001b[39;00m acc_idx ]\n\u001b[0;32m     28\u001b[0m \u001b[38;5;66;03m# for i, accu in enumerate( acc ):\u001b[39;00m\n\u001b[0;32m     29\u001b[0m \u001b[38;5;66;03m#     start, end = ranges[i]\u001b[39;00m\n\u001b[0;32m     30\u001b[0m \u001b[38;5;66;03m#     if start is None:\u001b[39;00m\n\u001b[1;32m   (...)\u001b[0m\n\u001b[0;32m     41\u001b[0m \u001b[38;5;66;03m#     print( f\"( i ) max del_theta for { ac*3600 }'' accuracy: { del_max[ i ]:.6f } degrees\" )\u001b[39;00m\n\u001b[0;32m     42\u001b[0m     \u001b[38;5;66;03m# :.1f\u001b[39;00m\n\u001b[0;32m     43\u001b[0m \u001b[38;5;28mprint\u001b[39m( del_max )\n",
      "\u001b[1;31mIndexError\u001b[0m: index 1000 is out of bounds for axis 0 with size 1000"
     ]
    }
   ],
   "source": [
    "# lat_avg = ( P_lat + Q_lat ) / 2\n",
    "# lat_avg2 = P_lat + ( del_theta / 2 )\n",
    "del_theta = numerical_package_of_python.linspace( (1/3600), 10, 1000 )\n",
    "\n",
    "cos_lat = numerical_package_of_python.cos( ( P_lat + Q_lat ) / 2 )\n",
    "# cosine factor\n",
    "\n",
    "s_euc_cos = numerical_package_of_python.sqrt( diff_lat**2 + (diff_lon*cos_lat)**2 )\n",
    "# s_euc w/ cosine factor\n",
    "\n",
    "acc = numerical_package_of_python.array( [ (0.1/3600), (1/3600), (0.1/60), (1/60) ] )\n",
    "\n",
    "# del_thet_arcsec = acc[ 1 ]\n",
    "del_arcsec = s_euc_cos*3600 - 1\n",
    "acc_idx = numerical_package_of_python.where( del_arcsec > 0 )[0]\n",
    "# del_idx2 = numerical_package_of_python.argmax( del_arcsec > 0, axis=0 ) - 1\n",
    "\n",
    "# ranges = []\n",
    "# for i, accu in enumerate( acc ):\n",
    "#     if len( del_idx ) == 0:\n",
    "#         ranges.append( (None,None) )\n",
    "#         continue\n",
    "#     idx1 = del_idx[0]\n",
    "#     idx2 = del_idx[-1]\n",
    "#     ranges.append( (del_theta[idx1], del_theta[idx2]) )\n",
    "\n",
    "del_max = [ del_theta[idx] for idx in acc_idx ]\n",
    "# for i, accu in enumerate( acc ):\n",
    "#     start, end = ranges[i]\n",
    "#     if start is None:\n",
    "#         print(f\"(i) No acceptable range foufnd for {accu * 3600:.1f}'' accuracy\")\n",
    "#     else:\n",
    "#         print(f\"(i) Acceptable ∆θ range for {accu * 3600:.1f}'' accuracy: {start:.6f} to {end:.6f} degrees\")\n",
    "\n",
    "# acc1 = del_s * np.cos( lat_avg ) #<= acc[ 0 ]\n",
    "# acc2 = del_s * np.cos( lat_avg ) #<= acc[ 1 ]\n",
    "# acc3 = del_s * np.cos( lat_avg ) #<= acc[ 2 ]\n",
    "# acc4 = del_s * np.cos( lat_avg ) #<= acc[ 3 ]\n",
    "\n",
    "# for i, ac in enumerate( acc ):\n",
    "#     print( f\"( i ) max del_theta for { ac*3600 }'' accuracy: { del_max[ i ]:.6f } degrees\" )\n",
    "    # :.1f\n",
    "print( del_max )"
   ]
  },
  {
   "cell_type": "code",
   "execution_count": null,
   "metadata": {},
   "outputs": [],
   "source": []
  },
  {
   "cell_type": "code",
   "execution_count": null,
   "metadata": {},
   "outputs": [],
   "source": []
  },
  {
   "cell_type": "code",
   "execution_count": null,
   "metadata": {},
   "outputs": [],
   "source": []
  },
  {
   "cell_type": "code",
   "execution_count": null,
   "metadata": {},
   "outputs": [],
   "source": []
  }
 ],
 "metadata": {
  "kernelspec": {
   "display_name": "Python 3",
   "language": "python",
   "name": "python3"
  },
  "language_info": {
   "codemirror_mode": {
    "name": "ipython",
    "version": 3
   },
   "file_extension": ".py",
   "mimetype": "text/x-python",
   "name": "python",
   "nbconvert_exporter": "python",
   "pygments_lexer": "ipython3",
   "version": "3.12.0"
  }
 },
 "nbformat": 4,
 "nbformat_minor": 2
}
