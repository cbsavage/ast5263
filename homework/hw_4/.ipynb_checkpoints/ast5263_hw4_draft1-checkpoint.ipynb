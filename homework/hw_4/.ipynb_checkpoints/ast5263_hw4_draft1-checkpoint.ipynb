{
 "cells": [
  {
   "cell_type": "code",
   "execution_count": 4,
   "metadata": {},
   "outputs": [],
   "source": [
    "import numpy as np\n",
    "import matplotlib.pyplot as plt"
   ]
  },
  {
   "cell_type": "code",
   "execution_count": 5,
   "metadata": {},
   "outputs": [
    {
     "ename": "ModuleNotFoundError",
     "evalue": "No module named 'astropy'",
     "output_type": "error",
     "traceback": [
      "\u001b[1;31m---------------------------------------------------------------------------\u001b[0m",
      "\u001b[1;31mModuleNotFoundError\u001b[0m                       Traceback (most recent call last)",
      "Cell \u001b[1;32mIn[5], line 1\u001b[0m\n\u001b[1;32m----> 1\u001b[0m \u001b[38;5;28;01mfrom\u001b[39;00m \u001b[38;5;21;01mastropy\u001b[39;00m\u001b[38;5;21;01m.\u001b[39;00m\u001b[38;5;21;01mcoordinates\u001b[39;00m \u001b[38;5;28;01mimport\u001b[39;00m SkyCoord\n\u001b[0;32m      2\u001b[0m \u001b[38;5;28;01mfrom\u001b[39;00m \u001b[38;5;21;01mastropy\u001b[39;00m\u001b[38;5;21;01m.\u001b[39;00m\u001b[38;5;21;01mtime\u001b[39;00m \u001b[38;5;28;01mimport\u001b[39;00m Time\n\u001b[0;32m      3\u001b[0m \u001b[38;5;66;03m# import astropy.units as u\u001b[39;00m\n",
      "\u001b[1;31mModuleNotFoundError\u001b[0m: No module named 'astropy'"
     ]
    }
   ],
   "source": [
    "from astropy.coordinates import SkyCoord\n",
    "from astropy.time import Time\n",
    "# import astropy.units as u\n",
    "from astropy.units import *"
   ]
  },
  {
   "cell_type": "code",
   "execution_count": null,
   "metadata": {},
   "outputs": [],
   "source": []
  },
  {
   "cell_type": "code",
   "execution_count": null,
   "metadata": {},
   "outputs": [],
   "source": [
    "from astropy.coordinates import SkyCoord\n",
    "from astropy.time import Time\n",
    "import astropy.units as u\n",
    "\n",
    "# Define initial positions and proper motions at J2000 epoch\n",
    "ra_star1_j2000 = 10*u.deg\n",
    "dec_star1_j2000 = 20*u.deg\n",
    "ra_star2_j2000 = 15*u.deg\n",
    "dec_star2_j2000 = 25*u.deg\n",
    "\n",
    "pm_ra_star1 = 1*u.mas/u.yr\n",
    "pm_dec_star1 = 2*u.mas/u.yr\n",
    "pm_ra_star2 = 2*u.mas/u.yr\n",
    "pm_dec_star2 = 1*u.mas/u.yr\n",
    "\n",
    "# Define epochs\n",
    "epochs = [Time('2000-01-01'), Time('2010-01-01'), Time('2020-01-01')]\n",
    "\n",
    "# Calculate positions at different epochs\n",
    "star1_coords = SkyCoord(ra=ra_star1_j2000, dec=dec_star1_j2000,\n",
    "                        pm_ra_cosdec=pm_ra_star1, pm_dec=pm_dec_star1,\n",
    "                        obstime=epochs)\n",
    "star2_coords = SkyCoord(ra=ra_star2_j2000, dec=dec_star2_j2000,\n",
    "                        pm_ra_cosdec=pm_ra_star2, pm_dec=pm_dec_star2,\n",
    "                        obstime=epochs)\n",
    "\n",
    "# Calculate separation at each epoch\n",
    "separations = star1_coords.separation(star2_coords)\n",
    "\n",
    "# Find epoch with minimum separation\n",
    "min_sep_epoch = epochs[separations.argmin()]\n",
    "min_sep = separations.min()\n",
    "\n",
    "print(\"Minimum separation epoch:\", min_sep_epoch)\n",
    "print(\"Minimum separation:\", min_sep)\n"
   ]
  },
  {
   "cell_type": "code",
   "execution_count": null,
   "metadata": {},
   "outputs": [],
   "source": []
  },
  {
   "cell_type": "code",
   "execution_count": null,
   "metadata": {},
   "outputs": [],
   "source": [
    "import matplotlib.pyplot as plt\n",
    "\n",
    "# Define function to calculate offset τ for a given year\n",
    "def tau(year):\n",
    "    if year < 1582:\n",
    "        return 0  # Before adoption of the Gregorian calendar\n",
    "    elif year == 1582:\n",
    "        return 0  # Year of calendar adoption, no offset\n",
    "    else:\n",
    "        # Calculate the number of leap years since 1582\n",
    "        num_leap_years = (year - 1580) // 4 - (year - 1600) // 100 + (year - 1600) // 400\n",
    "        \n",
    "        # Calculate total days counted by the calendar\n",
    "        total_days_counted = (year - 1582) * 365 + num_leap_years\n",
    "        \n",
    "        # Calculate total days elapsed in terms of tropical years\n",
    "        total_tropical_days = (year - 1582) * 365.24219\n",
    "        \n",
    "        # Calculate offset τ\n",
    "        return total_days_counted - total_tropical_days\n",
    "\n",
    "# Create arrays for years and corresponding τ values\n",
    "years = range(1582, 10001)\n",
    "tau_values = [tau(year) for year in years]\n",
    "\n",
    "# Plot τ vs. t\n",
    "plt.figure(figsize=(10, 6))\n",
    "plt.plot(years, tau_values, color='blue')\n",
    "plt.title('Offset Between Gregorian Calendar and Mean Tropical Year')\n",
    "plt.xlabel('Year')\n",
    "plt.ylabel('Offset (days)')\n",
    "plt.grid(True)\n",
    "plt.show()\n"
   ]
  },
  {
   "cell_type": "code",
   "execution_count": null,
   "metadata": {},
   "outputs": [],
   "source": []
  },
  {
   "cell_type": "code",
   "execution_count": null,
   "metadata": {},
   "outputs": [],
   "source": []
  }
 ],
 "metadata": {
  "kernelspec": {
   "display_name": "Python 3 (ipykernel)",
   "language": "python",
   "name": "python3"
  },
  "language_info": {
   "codemirror_mode": {
    "name": "ipython",
    "version": 3
   },
   "file_extension": ".py",
   "mimetype": "text/x-python",
   "name": "python",
   "nbconvert_exporter": "python",
   "pygments_lexer": "ipython3",
   "version": "3.11.5"
  }
 },
 "nbformat": 4,
 "nbformat_minor": 2
}
