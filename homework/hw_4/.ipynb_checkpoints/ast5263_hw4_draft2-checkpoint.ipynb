{
 "cells": [
  {
   "cell_type": "code",
   "execution_count": null,
   "metadata": {},
   "outputs": [],
   "source": [
    "import numpy as np\n",
    "import matplotlib.pyplot as plt\n",
    "\n",
    "from astropy.coordinates import SkyCoord, EarthLocation, AltAz, get_sun\n",
    "from astropy.time import Time\n",
    "import astropy.units as u\n",
    "\n",
    "from datetime import datetime as dt\n",
    "\n",
    "# import numpy as np\n",
    "# from astropy.coordinates import \n",
    "# from astropy.time import Time"
   ]
  },
  {
   "cell_type": "code",
   "execution_count": null,
   "metadata": {},
   "outputs": [],
   "source": [
    "# Define initial positions and proper motions for stars A and B\n",
    "ra_A_j2000 = 14*u.hour + 39*u.minute + 36.5*u.second\n",
    "dec_A_j2000 = -60*u.degree - 50*u.arcmin - 2*u.arcsec\n",
    "pm_ra_A = -3.679*u.arcsec/u.year\n",
    "pm_dec_A = 0.474*u.arcsec/u.year\n",
    "\n",
    "ra_B_j2000 = 14*u.hour + 39*u.minute + 35.1*u.second\n",
    "dec_B_j2000 = -60*u.degree - 50*u.arcmin - 15*u.arcsec\n",
    "pm_ra_B = -3.614*u.arcsec/u.year\n",
    "pm_dec_B = 0.803*u.arcsec/u.year"
   ]
  },
  {
   "cell_type": "code",
   "execution_count": null,
   "metadata": {},
   "outputs": [],
   "source": [
    "# Define epochs for calculation\n",
    "epochs = Time(np.linspace(2000, 2050, 100), format='decimalyear')"
   ]
  },
  {
   "cell_type": "code",
   "execution_count": null,
   "metadata": {},
   "outputs": [],
   "source": [
    "# Calculate apparent positions at different epochs for stars A and B\n",
    "coords_A = SkyCoord(ra=ra_A_j2000, dec=dec_A_j2000,\n",
    "                    pm_ra_cosdec=pm_ra_A, pm_dec=pm_dec_A,\n",
    "                    obstime=epochs)\n",
    "\n",
    "coords_B = SkyCoord(ra=ra_B_j2000, dec=dec_B_j2000,\n",
    "                    pm_ra_cosdec=pm_ra_B, pm_dec=pm_dec_B,\n",
    "                    obstime=epochs)"
   ]
  },
  {
   "cell_type": "code",
   "execution_count": null,
   "metadata": {},
   "outputs": [],
   "source": [
    "# Calculate separation at each epoch\n",
    "separations = coords_A.separation(coords_B)\n",
    "\n",
    "# Find epoch with minimum separation\n",
    "min_sep_epoch = epochs[np.argmin(separations)]\n",
    "min_sep = separations.min()"
   ]
  },
  {
   "cell_type": "code",
   "execution_count": null,
   "metadata": {},
   "outputs": [],
   "source": [
    "print(\"Minimum separation epoch:\", min_sep_epoch)\n",
    "print(\"Minimum separation:\", min_sep.to(u.arcsecond))"
   ]
  },
  {
   "cell_type": "code",
   "execution_count": null,
   "metadata": {},
   "outputs": [],
   "source": []
  },
  {
   "cell_type": "code",
   "execution_count": null,
   "metadata": {},
   "outputs": [],
   "source": [
    "# Define years from 1582 to 10000\n",
    "years = np.arange(1582, 10001)\n",
    "\n",
    "# Calculate the number of leap years since 1582\n",
    "num_leap_years = (years - 1580) // 4 - (years - 1600) // 100 + (years - 1600) // 400\n",
    "\n",
    "# Calculate total days counted by the calendar\n",
    "total_days_counted = (years - 1582) * 365 + num_leap_years\n",
    "\n",
    "# Calculate total days elapsed in terms of tropical years\n",
    "total_tropical_days = (years - 1582) * 365.24219\n",
    "\n",
    "# Calculate offset τ\n",
    "tau_values = total_days_counted - total_tropical_days"
   ]
  },
  {
   "cell_type": "code",
   "execution_count": null,
   "metadata": {},
   "outputs": [],
   "source": [
    "# Plot τ vs. t\n",
    "plt.figure(figsize=(10, 6))\n",
    "plt.plot(years, tau_values, color='blue')\n",
    "plt.title('Offset Between Gregorian Calendar and Mean Tropical Year')\n",
    "plt.xlabel('Year')\n",
    "plt.ylabel('Offset (days)')\n",
    "plt.grid(True)\n",
    "plt.show()"
   ]
  },
  {
   "cell_type": "code",
   "execution_count": null,
   "metadata": {},
   "outputs": [],
   "source": []
  },
  {
   "cell_type": "code",
   "execution_count": null,
   "metadata": {},
   "outputs": [],
   "source": [
    "# Question 3"
   ]
  },
  {
   "cell_type": "code",
   "execution_count": null,
   "metadata": {},
   "outputs": [],
   "source": [
    "# Given data\n",
    "latitude = 28.6  # Latitude of PSB in degrees\n",
    "azimuths = [53, 233]  # Azimuths of the northwest side of PSB in degrees\n",
    "sun_altitude_threshold = 20  # Minimum altitude of the Sun for direct sunlight in degrees\n",
    "\n",
    "# Define PSB location\n",
    "psb_location = EarthLocation(lat=latitude, lon=-(180 - azimuths[0]), height=0)  # PSB's location\n",
    "\n",
    "# Calculate the number of days in a year\n",
    "num_days = 365\n",
    "\n",
    "# Create an array of days from 1 to 365\n",
    "days_of_year = np.arange(1, num_days + 1)\n",
    "\n",
    "# Calculate the Sun's ecliptic longitude for each day of the year\n",
    "sun_ecliptic_longitudes = (360 / 365.25) * (days_of_year - 80)  # Assuming March 20 as day 0\n",
    "\n",
    "# Create a Time object for each day at noon (12:00 PM UTC)\n",
    "times = Time('2024-01-01T12:00:00') + days_of_year - 1  # Assuming year 2024\n",
    "\n",
    "# Get the position of the Sun for each time and location\n",
    "sun = get_sun(times)\n",
    "sun_altazs = sun.transform_to(AltAz(obstime=times, location=psb_location))\n",
    "\n",
    "# Check if the Sun's altitude is above the threshold for direct sunlight\n",
    "sunlight_mask = sun_altazs.alt.deg > sun_altitude_threshold\n",
    "\n",
    "# Print the days with direct sunlight\n",
    "sunlight_days = days_of_year[sunlight_mask]\n",
    "print(\"Days with direct sunlight on the first-floor, northwest-side of PSB:\", sunlight_days)\n"
   ]
  },
  {
   "cell_type": "code",
   "execution_count": null,
   "metadata": {},
   "outputs": [],
   "source": []
  },
  {
   "cell_type": "code",
   "execution_count": null,
   "metadata": {},
   "outputs": [],
   "source": [
    "# question 4"
   ]
  },
  {
   "cell_type": "code",
   "execution_count": null,
   "metadata": {},
   "outputs": [],
   "source": [
    "# Constants\n",
    "hours_to_degrees = 15.0  # 1 hour = 15 degrees\n",
    "minutes_to_degrees = 0.25  # 1 minute = 0.25 degrees\n",
    "\n",
    "# Given data\n",
    "obs_longitude_deg = -81 - 12/60  # Orlando's longitude in degrees\n",
    "alpha_hours = 5\n",
    "alpha_minutes = 27\n",
    "alpha_seconds = 30.0\n",
    "dec_degrees = 20.0\n",
    "local_time = 20 + 4/60 + 26/3600  # Local time in hours, EST\n",
    "\n",
    "# Calculate the Solar-to-Sidereal conversion factor\n",
    "solar_to_sidereal_conversion = 1.00273790935\n",
    "\n",
    "# Convert right ascension to degrees\n",
    "alpha_degrees = alpha_hours * hours_to_degrees + alpha_minutes * minutes_to_degrees + alpha_seconds / 240.0\n",
    "\n",
    "# Calculate the hour angle at local midnight\n",
    "hour_angle_midnight = local_time * 15.0 - obs_longitude_deg - alpha_degrees\n",
    "\n",
    "# Ensure hour angle is within 0 to 360 degrees\n",
    "hour_angle_midnight = np.mod(hour_angle_midnight, 360.0)\n",
    "\n",
    "# Calculate LST at Greenwich at midnight UTC\n",
    "lst_greenwich_midnight_utc = 360.0 - hour_angle_midnight * solar_to_sidereal_conversion\n",
    "\n",
    "print(\"LST at Greenwich at midnight UTC on February 16/17, 2018:\", lst_greenwich_midnight_utc, \"degrees\")"
   ]
  },
  {
   "cell_type": "code",
   "execution_count": null,
   "metadata": {},
   "outputs": [],
   "source": [
    "# Constants\n",
    "IERS2010A = 0.997269566  # Solar-to-sidereal conversion factor\n",
    "\n",
    "# Convert coordinates to degrees\n",
    "ra_deg = 15 * (np.floor(5.27300) + (5.27300 - np.floor(5.27300)) * 60 + 30.0 / 3600)\n",
    "dec_deg = 20.0\n",
    "longitude_deg = -81.2\n",
    "\n",
    "# Convert time to hours\n",
    "sidereal_time = 20 + (4 / 60) + (26 / 3600)\n",
    "\n",
    "# Calculate Greenwich Mean Sidereal Time (GMST)\n",
    "gmst = (sidereal_time + ra_deg / 15 + longitude_deg / 15) / 24  # Eq. (14.6)\n",
    "\n",
    "# Adjust for solar-to-sidereal conversion\n",
    "gmst = (gmst + IERS2010A) % 1  # Convert to sidereal time\n",
    "\n",
    "# Calculate LST at Greenwich at midnight UTC\n",
    "lst_greenwich = gmst * 24  # Hours\n",
    "\n",
    "print(f\"LST at Greenwich at midnight UTC on February 16/17, 2018: {lst_greenwich:.4f} hours\")\n"
   ]
  },
  {
   "cell_type": "code",
   "execution_count": null,
   "metadata": {},
   "outputs": [],
   "source": []
  },
  {
   "cell_type": "code",
   "execution_count": null,
   "metadata": {},
   "outputs": [],
   "source": []
  },
  {
   "cell_type": "code",
   "execution_count": null,
   "metadata": {},
   "outputs": [],
   "source": [
    "# Question 6"
   ]
  },
  {
   "cell_type": "code",
   "execution_count": null,
   "metadata": {},
   "outputs": [],
   "source": [
    "# Given data\n",
    "sidereal_day_mars = 24 * 3600 + 37 * 60 + 22.7  # in seconds\n",
    "mean_tropical_year_mars = 686.9724  # in Earth days\n"
   ]
  },
  {
   "cell_type": "code",
   "execution_count": null,
   "metadata": {},
   "outputs": [],
   "source": [
    "# (a) Calculate the length of a mean solar day on Mars\n",
    "solar_day_mars = sidereal_day_mars / (1 + 1 / (365.2425 / 686.9724))\n",
    "\n",
    "# Convert mean solar day to hours, minutes, seconds\n",
    "hours = int(solar_day_mars // 3600)\n",
    "minutes = int((solar_day_mars % 3600) // 60)\n",
    "seconds = solar_day_mars % 60\n",
    "\n",
    "print(\"(a) Length of a mean solar day on Mars:\", hours, \"hours\", minutes, \"minutes\", round(seconds, 1), \"seconds\")"
   ]
  },
  {
   "cell_type": "code",
   "execution_count": null,
   "metadata": {},
   "outputs": [],
   "source": [
    "# (b) Calculate how many mean solar days occur in a Martian mean tropical year\n",
    "mean_solar_days_per_year = mean_tropical_year_mars / solar_day_mars\n",
    "print(\"(b) Number of mean solar days in a Martian mean tropical year:\", round(mean_solar_days_per_year, 2))"
   ]
  },
  {
   "cell_type": "code",
   "execution_count": null,
   "metadata": {},
   "outputs": [],
   "source": [
    "# (c) Develop a leap-day scheme for a Martian calendar\n",
    "# In this scheme, we add 1 day every 2 Martian years\n",
    "N = 686.9724  # Number of days in a year\n",
    "M = 2  # Number of years before adding leap day\n",
    "K = 1  # Number of days to be added"
   ]
  },
  {
   "cell_type": "code",
   "execution_count": null,
   "metadata": {},
   "outputs": [],
   "source": [
    "print(\"(c) Leap-day scheme: The calendar has\", N, \"days in a year but every\", M, \"years we add\", K, \"day.\")"
   ]
  },
  {
   "cell_type": "code",
   "execution_count": null,
   "metadata": {},
   "outputs": [],
   "source": []
  }
 ],
 "metadata": {
  "kernelspec": {
   "display_name": "Python 3 (ipykernel)",
   "language": "python",
   "name": "python3"
  },
  "language_info": {
   "codemirror_mode": {
    "name": "ipython",
    "version": 3
   },
   "file_extension": ".py",
   "mimetype": "text/x-python",
   "name": "python",
   "nbconvert_exporter": "python",
   "pygments_lexer": "ipython3",
   "version": "3.11.5"
  }
 },
 "nbformat": 4,
 "nbformat_minor": 2
}
