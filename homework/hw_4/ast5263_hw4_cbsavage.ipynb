{
 "cells": [
  {
   "cell_type": "code",
   "execution_count": null,
   "metadata": {},
   "outputs": [],
   "source": [
    "# Catalina Savage\n",
    "# AST 5263 - Advanced Observational Astronomy\n",
    "# Homework 4"
   ]
  },
  {
   "cell_type": "code",
   "execution_count": null,
   "metadata": {},
   "outputs": [],
   "source": []
  },
  {
   "cell_type": "code",
   "execution_count": 15,
   "metadata": {},
   "outputs": [],
   "source": [
    "import importlib as im"
   ]
  },
  {
   "cell_type": "code",
   "execution_count": 20,
   "metadata": {},
   "outputs": [],
   "source": [
    "# im.import_module( \"astropy.coordinates\" )"
   ]
  },
  {
   "cell_type": "code",
   "execution_count": null,
   "metadata": {},
   "outputs": [],
   "source": []
  },
  {
   "cell_type": "code",
   "execution_count": null,
   "metadata": {},
   "outputs": [],
   "source": []
  },
  {
   "cell_type": "code",
   "execution_count": 1,
   "metadata": {},
   "outputs": [
    {
     "ename": "ModuleNotFoundError",
     "evalue": "No module named 'astropy'",
     "output_type": "error",
     "traceback": [
      "\u001b[1;31m---------------------------------------------------------------------------\u001b[0m",
      "\u001b[1;31mModuleNotFoundError\u001b[0m                       Traceback (most recent call last)",
      "Cell \u001b[1;32mIn[1], line 4\u001b[0m\n\u001b[0;32m      1\u001b[0m \u001b[38;5;28;01mimport\u001b[39;00m \u001b[38;5;21;01mnumpy\u001b[39;00m             \u001b[38;5;28;01mas\u001b[39;00m \u001b[38;5;21;01mnp\u001b[39;00m\n\u001b[0;32m      2\u001b[0m \u001b[38;5;28;01mimport\u001b[39;00m \u001b[38;5;21;01mmatplotlib\u001b[39;00m\u001b[38;5;21;01m.\u001b[39;00m\u001b[38;5;21;01mpyplot\u001b[39;00m \u001b[38;5;28;01mas\u001b[39;00m \u001b[38;5;21;01mplt\u001b[39;00m\n\u001b[1;32m----> 4\u001b[0m \u001b[38;5;28;01mimport\u001b[39;00m \u001b[38;5;21;01mastropy\u001b[39;00m\u001b[38;5;21;01m.\u001b[39;00m\u001b[38;5;21;01munits\u001b[39;00m \u001b[38;5;28;01mas\u001b[39;00m \u001b[38;5;21;01mu\u001b[39;00m\n\u001b[0;32m      6\u001b[0m \u001b[38;5;28;01mfrom\u001b[39;00m \u001b[38;5;21;01mastropy\u001b[39;00m\u001b[38;5;21;01m.\u001b[39;00m\u001b[38;5;21;01mcoordinates\u001b[39;00m \u001b[38;5;28;01mimport\u001b[39;00m SkyCoord, EarthLocation, AltAz, get_sun \u001b[38;5;66;03m#, FK5\u001b[39;00m\n\u001b[0;32m      7\u001b[0m \u001b[38;5;66;03m# /home/savage/pc/anaconda3/Lib/site-packages/astropy/coordinates/tests/test_sky_coord.py\u001b[39;00m\n",
      "\u001b[1;31mModuleNotFoundError\u001b[0m: No module named 'astropy'"
     ]
    }
   ],
   "source": [
    "import numpy             as np\n",
    "import matplotlib.pyplot as plt\n",
    "\n",
    "import astropy.units as u\n",
    "\n",
    "from astropy.coordinates import SkyCoord, EarthLocation, AltAz, get_sun #, FK5\n",
    "# /home/savage/pc/anaconda3/Lib/site-packages/astropy/coordinates/tests/test_sky_coord.py\n",
    "\n",
    "from astropy.time        import Time, TimeGPS\n",
    "\n",
    "import datetime as dt"
   ]
  },
  {
   "cell_type": "code",
   "execution_count": null,
   "metadata": {},
   "outputs": [],
   "source": []
  },
  {
   "cell_type": "code",
   "execution_count": null,
   "metadata": {},
   "outputs": [],
   "source": [
    "# Question 1"
   ]
  },
  {
   "cell_type": "code",
   "execution_count": 2,
   "metadata": {},
   "outputs": [
    {
     "ename": "NameError",
     "evalue": "name 'u' is not defined",
     "output_type": "error",
     "traceback": [
      "\u001b[1;31m---------------------------------------------------------------------------\u001b[0m",
      "\u001b[1;31mNameError\u001b[0m                                 Traceback (most recent call last)",
      "Cell \u001b[1;32mIn[2], line 2\u001b[0m\n\u001b[0;32m      1\u001b[0m \u001b[38;5;66;03m# RA in J2000\u001b[39;00m\n\u001b[1;32m----> 2\u001b[0m ra_A \u001b[38;5;241m=\u001b[39m \u001b[38;5;241m14\u001b[39m\u001b[38;5;241m*\u001b[39m\u001b[43mu\u001b[49m\u001b[38;5;241m.\u001b[39mhour \u001b[38;5;241m+\u001b[39m \u001b[38;5;241m39\u001b[39m\u001b[38;5;241m*\u001b[39mu\u001b[38;5;241m.\u001b[39mminute \u001b[38;5;241m+\u001b[39m \u001b[38;5;241m36.5\u001b[39m\u001b[38;5;241m*\u001b[39mu\u001b[38;5;241m.\u001b[39msecond\n\u001b[0;32m      3\u001b[0m ra_B \u001b[38;5;241m=\u001b[39m \u001b[38;5;241m14\u001b[39m\u001b[38;5;241m*\u001b[39mu\u001b[38;5;241m.\u001b[39mhour \u001b[38;5;241m+\u001b[39m \u001b[38;5;241m39\u001b[39m\u001b[38;5;241m*\u001b[39mu\u001b[38;5;241m.\u001b[39mminute \u001b[38;5;241m+\u001b[39m \u001b[38;5;241m35.1\u001b[39m\u001b[38;5;241m*\u001b[39mu\u001b[38;5;241m.\u001b[39msecond\n\u001b[0;32m      5\u001b[0m \u001b[38;5;66;03m# declinations\u001b[39;00m\n",
      "\u001b[1;31mNameError\u001b[0m: name 'u' is not defined"
     ]
    }
   ],
   "source": [
    "# RA in J2000\n",
    "ra_A = 14*u.hour + 39*u.minute + 36.5*u.second\n",
    "ra_B = 14*u.hour + 39*u.minute + 35.1*u.second\n",
    "\n",
    "# declinations\n",
    "dec_A = -60*u.degree + 50*u.arcminute + 2*u.arcsecond\n",
    "dec_B = -60*u.degree + 50*u.arcminute + 15*u.arcsecond\n",
    "\n",
    "# proper motions, RA\n",
    "pm_raA = -3.679*( u.arcsecond / u.year )\n",
    "pm_raB = -3.614*( u.arcsecond / u.year )\n",
    "\n",
    "# proper motions, declination\n",
    "pm_decA =  0.474*( u.arcsecond / u.year )\n",
    "pm_decB = 0.803*( u.arcsecond / u.year )"
   ]
  },
  {
   "cell_type": "code",
   "execution_count": 3,
   "metadata": {},
   "outputs": [
    {
     "ename": "NameError",
     "evalue": "name 'Time' is not defined",
     "output_type": "error",
     "traceback": [
      "\u001b[1;31m---------------------------------------------------------------------------\u001b[0m",
      "\u001b[1;31mNameError\u001b[0m                                 Traceback (most recent call last)",
      "Cell \u001b[1;32mIn[3], line 2\u001b[0m\n\u001b[0;32m      1\u001b[0m \u001b[38;5;66;03m# epochs to use in calculations\u001b[39;00m\n\u001b[1;32m----> 2\u001b[0m epoch \u001b[38;5;241m=\u001b[39m \u001b[43mTime\u001b[49m( np\u001b[38;5;241m.\u001b[39mlinspace(\u001b[38;5;241m2000\u001b[39m,\u001b[38;5;241m2050\u001b[39m,\u001b[38;5;241m100\u001b[39m), \u001b[38;5;28mformat\u001b[39m\u001b[38;5;241m=\u001b[39m\u001b[38;5;124m'\u001b[39m\u001b[38;5;124mdecimalyear\u001b[39m\u001b[38;5;124m'\u001b[39m )\n",
      "\u001b[1;31mNameError\u001b[0m: name 'Time' is not defined"
     ]
    }
   ],
   "source": [
    "# epochs to use in calculations\n",
    "epoch = Time( np.linspace(2000,2050,100), format='decimalyear' )"
   ]
  },
  {
   "cell_type": "code",
   "execution_count": 13,
   "metadata": {},
   "outputs": [
    {
     "ename": "NameError",
     "evalue": "name 'SkyCoord' is not defined",
     "output_type": "error",
     "traceback": [
      "\u001b[1;31m---------------------------------------------------------------------------\u001b[0m",
      "\u001b[1;31mNameError\u001b[0m                                 Traceback (most recent call last)",
      "Cell \u001b[1;32mIn[13], line 2\u001b[0m\n\u001b[0;32m      1\u001b[0m \u001b[38;5;66;03m# calculate apparent motions in difference epochs\u001b[39;00m\n\u001b[1;32m----> 2\u001b[0m coord_A \u001b[38;5;241m=\u001b[39m SkyCoord( ra\u001b[38;5;241m=\u001b[39mra_A,\n\u001b[0;32m      3\u001b[0m                     dec\u001b[38;5;241m=\u001b[39mdec_A, \n\u001b[0;32m      4\u001b[0m                     pm_ra_cosdec\u001b[38;5;241m=\u001b[39mpm_raA,\n\u001b[0;32m      5\u001b[0m                     pm_dec\u001b[38;5;241m=\u001b[39mpm_decA, \n\u001b[0;32m      6\u001b[0m                     obstime\u001b[38;5;241m=\u001b[39mepoch )\n\u001b[0;32m      8\u001b[0m coord_B \u001b[38;5;241m=\u001b[39m SkyCoord( ra\u001b[38;5;241m=\u001b[39mra_B,\n\u001b[0;32m      9\u001b[0m                     dec\u001b[38;5;241m=\u001b[39mdec_B,\n\u001b[0;32m     10\u001b[0m                     pm_ra_cosdec\u001b[38;5;241m=\u001b[39mpm_raB,\n\u001b[0;32m     11\u001b[0m                     pm_dec\u001b[38;5;241m=\u001b[39mpm_decB, \n\u001b[0;32m     12\u001b[0m                     obstime\u001b[38;5;241m=\u001b[39mepoch )\n",
      "\u001b[1;31mNameError\u001b[0m: name 'SkyCoord' is not defined"
     ]
    }
   ],
   "source": [
    "# calculate apparent motions in difference epochs\n",
    "coord_A = SkyCoord( ra=ra_A,\n",
    "                    dec=dec_A, \n",
    "                    pm_ra_cosdec=pm_raA,\n",
    "                    pm_dec=pm_decA, \n",
    "                    obstime=epoch )\n",
    "\n",
    "coord_B = SkyCoord( ra=ra_B,\n",
    "                    dec=dec_B,\n",
    "                    pm_ra_cosdec=pm_raB,\n",
    "                    pm_dec=pm_decB, \n",
    "                    obstime=epoch )"
   ]
  },
  {
   "cell_type": "code",
   "execution_count": 5,
   "metadata": {},
   "outputs": [],
   "source": [
    "sep        = coord_A.separation( coord_B )\n",
    "sep_argmin = np.argmin( sep )"
   ]
  },
  {
   "cell_type": "code",
   "execution_count": 6,
   "metadata": {},
   "outputs": [],
   "source": [
    "sep_epoch = epoch[ sep_argmin ]\n",
    "sep_min  = sep.min()\n",
    "# sep_min2  = np.min( sep )"
   ]
  },
  {
   "cell_type": "code",
   "execution_count": 7,
   "metadata": {},
   "outputs": [],
   "source": [
    "sep_arcsec = sep_min.to( u.arcsecond )\n",
    "# sep_arcsec2 = sep_min2.to( u.arcsecond )"
   ]
  },
  {
   "cell_type": "code",
   "execution_count": 8,
   "metadata": {},
   "outputs": [
    {
     "name": "stdout",
     "output_type": "stream",
     "text": [
      "Epoch of minimal separation:  2000.0\n",
      "Minimum separation in arcseconds: 16.878 arcsec\n"
     ]
    }
   ],
   "source": [
    "print( 'Epoch of minimal separation: ', sep_epoch )\n",
    "print( 'Minimum separation in arcseconds:', sep_arcsec )\n",
    "# print( 'Minimum separation in arcseconds:', sep_arcsec2 )"
   ]
  },
  {
   "cell_type": "code",
   "execution_count": null,
   "metadata": {},
   "outputs": [],
   "source": []
  },
  {
   "cell_type": "code",
   "execution_count": null,
   "metadata": {},
   "outputs": [],
   "source": [
    "# Question 2"
   ]
  },
  {
   "cell_type": "code",
   "execution_count": 9,
   "metadata": {},
   "outputs": [],
   "source": [
    "# t = np.arange( 1582,10000.1 )\n",
    "t = np.linspace( 1582,10000 )\n",
    "\n",
    "t_1 = t - 1580\n",
    "t_2 = t - 1600\n",
    "t_3 = t - 1582"
   ]
  },
  {
   "cell_type": "code",
   "execution_count": 10,
   "metadata": {},
   "outputs": [],
   "source": [
    "t_leap = t_1//4 - t_2//100 + t_2//400"
   ]
  },
  {
   "cell_type": "code",
   "execution_count": 11,
   "metadata": {},
   "outputs": [],
   "source": [
    "days_cnt  = t_3*365 + t_leap\n",
    "days_trop = t_3*365.24219"
   ]
  },
  {
   "cell_type": "code",
   "execution_count": 12,
   "metadata": {},
   "outputs": [
    {
     "name": "stdout",
     "output_type": "stream",
     "text": [
      "[ 0.          0.39274653 -0.21450694  1.17823959  0.57098612  0.96373265\n",
      "  0.35647918  0.74922571  1.14197224  0.53471878  0.92746531  0.32021184\n",
      "  0.71295837  0.1057049   0.49845143  0.89119796  0.28394449  0.67669102\n",
      "  1.06943755  1.46218408  0.85493061  1.24767714  1.64042367  1.0331702\n",
      "  1.42591673  1.81866327  2.2114098   1.60415633  1.99690286  2.38964939\n",
      "  0.78239592  1.17514245  1.56788898  1.96063551  1.35338204  1.74612857\n",
      "  2.1388751   1.53162163  1.92436816  2.31711469  2.70986122  2.10260775\n",
      "  2.49535429  2.88810082  2.28084735  2.67359388  3.06634041  3.45908694\n",
      "  2.85183347  3.24458   ]\n"
     ]
    }
   ],
   "source": [
    "# offset\n",
    "tau = days_cnt - days_trop\n",
    "print( tau )"
   ]
  },
  {
   "cell_type": "code",
   "execution_count": null,
   "metadata": {},
   "outputs": [],
   "source": [
    "# ( a )"
   ]
  },
  {
   "cell_type": "code",
   "execution_count": 13,
   "metadata": {},
   "outputs": [
    {
     "data": {
      "image/png": "[encoded data removed]",
      "text/plain": [
       "<Figure size 800x600 with 1 Axes>"
      ]
     },
     "metadata": {},
     "output_type": "display_data"
    }
   ],
   "source": [
    "# plot offset as a function of year (??)\n",
    "plt.figure( figsize=(8,6) )\n",
    "plt.plot( t, tau )\n",
    "\n",
    "plt.title( 'Offset Between the Calendar and Tropical Years' )\n",
    "\n",
    "plt.xlabel( 'Year' )\n",
    "plt.ylabel( 'Offset, days' )\n",
    "\n",
    "plt.show()"
   ]
  },
  {
   "cell_type": "code",
   "execution_count": null,
   "metadata": {},
   "outputs": [],
   "source": []
  },
  {
   "cell_type": "code",
   "execution_count": null,
   "metadata": {},
   "outputs": [],
   "source": [
    "# Question 3"
   ]
  },
  {
   "cell_type": "code",
   "execution_count": 14,
   "metadata": {},
   "outputs": [],
   "source": [
    "az = [ 53, 233 ]\n",
    "\n",
    "alt_min = 20*u.deg # altitude of sun in sky\n",
    "\n",
    "lat_psb   = 28.6*u.deg\n",
    "long_ecl  = 0*u.deg\n",
    "long_rate =  360*u.deg / 365.25 #*u.day"
   ]
  },
  {
   "cell_type": "code",
   "execution_count": 15,
   "metadata": {},
   "outputs": [
    {
     "ename": "TypeError",
     "evalue": "only integer dimensionless scalar quantities can be converted to a Python index",
     "output_type": "error",
     "traceback": [
      "\u001b[1;31m---------------------------------------------------------------------------\u001b[0m",
      "\u001b[1;31mAssertionError\u001b[0m                            Traceback (most recent call last)",
      "File \u001b[1;32m~\\anaconda3\\Lib\\site-packages\\astropy\\units\\quantity.py:1370\u001b[0m, in \u001b[0;36mQuantity.__index__\u001b[1;34m(self)\u001b[0m\n\u001b[0;32m   1369\u001b[0m \u001b[38;5;28;01mtry\u001b[39;00m:\n\u001b[1;32m-> 1370\u001b[0m     \u001b[38;5;28;01massert\u001b[39;00m \u001b[38;5;28mself\u001b[39m\u001b[38;5;241m.\u001b[39munit\u001b[38;5;241m.\u001b[39mis_unity()\n\u001b[0;32m   1371\u001b[0m     \u001b[38;5;28;01mreturn\u001b[39;00m \u001b[38;5;28mself\u001b[39m\u001b[38;5;241m.\u001b[39mvalue\u001b[38;5;241m.\u001b[39m\u001b[38;5;21m__index__\u001b[39m()\n",
      "\u001b[1;31mAssertionError\u001b[0m: ",
      "\nDuring handling of the above exception, another exception occurred:\n",
      "\u001b[1;31mTypeError\u001b[0m                                 Traceback (most recent call last)",
      "Cell \u001b[1;32mIn[15], line 2\u001b[0m\n\u001b[0;32m      1\u001b[0m \u001b[38;5;66;03m# psb = EarthLocation( lat=lat_psb, lon=-(180-az[0]), height=0 )\u001b[39;00m\n\u001b[1;32m----> 2\u001b[0m psb \u001b[38;5;241m=\u001b[39m EarthLocation( lat\u001b[38;5;241m=\u001b[39mlat_psb, lon\u001b[38;5;241m=\u001b[39m\u001b[38;5;241m-\u001b[39m(\u001b[38;5;241m180\u001b[39m\u001b[38;5;241m-\u001b[39maz[long_ecl]), height\u001b[38;5;241m=\u001b[39m\u001b[38;5;241m0\u001b[39m )\n",
      "File \u001b[1;32m~\\anaconda3\\Lib\\site-packages\\astropy\\units\\quantity.py:1373\u001b[0m, in \u001b[0;36mQuantity.__index__\u001b[1;34m(self)\u001b[0m\n\u001b[0;32m   1371\u001b[0m     \u001b[38;5;28;01mreturn\u001b[39;00m \u001b[38;5;28mself\u001b[39m\u001b[38;5;241m.\u001b[39mvalue\u001b[38;5;241m.\u001b[39m\u001b[38;5;21m__index__\u001b[39m()\n\u001b[0;32m   1372\u001b[0m \u001b[38;5;28;01mexcept\u001b[39;00m \u001b[38;5;167;01mException\u001b[39;00m:\n\u001b[1;32m-> 1373\u001b[0m     \u001b[38;5;28;01mraise\u001b[39;00m \u001b[38;5;167;01mTypeError\u001b[39;00m(\n\u001b[0;32m   1374\u001b[0m         \u001b[38;5;124m\"\u001b[39m\u001b[38;5;124monly integer dimensionless scalar quantities \u001b[39m\u001b[38;5;124m\"\u001b[39m\n\u001b[0;32m   1375\u001b[0m         \u001b[38;5;124m\"\u001b[39m\u001b[38;5;124mcan be converted to a Python index\u001b[39m\u001b[38;5;124m\"\u001b[39m\n\u001b[0;32m   1376\u001b[0m     )\n",
      "\u001b[1;31mTypeError\u001b[0m: only integer dimensionless scalar quantities can be converted to a Python index"
     ]
    }
   ],
   "source": [
    "# psb = EarthLocation( lat=lat_psb, lon=-(180-az[0]), height=0 )\n",
    "psb = EarthLocation( lat=lat_psb, lon=-(180-az[long_ecl]), height=0 )\n",
    "# assuming height means elevation above sea-level, FLORIDA IS FLAT AND WILL BE EATEN BY THE OCEAN IN THE FUTURE"
   ]
  },
  {
   "cell_type": "code",
   "execution_count": 16,
   "metadata": {},
   "outputs": [],
   "source": [
    "# array containing number of days in a year\n",
    "# one_yr = np.arange( 1, 366 )\n",
    "one_yr = np.linspace( 1, 365 )"
   ]
  },
  {
   "cell_type": "code",
   "execution_count": 17,
   "metadata": {},
   "outputs": [
    {
     "name": "stderr",
     "output_type": "stream",
     "text": [
      "WARNING: TimeDeltaMissingUnitWarning: Numerical value without unit or explicit format passed to TimeDelta, assuming days [astropy.time.core]\n"
     ]
    },
    {
     "ename": "NameError",
     "evalue": "name 'psb' is not defined",
     "output_type": "error",
     "traceback": [
      "\u001b[1;31m---------------------------------------------------------------------------\u001b[0m",
      "\u001b[1;31mNameError\u001b[0m                                 Traceback (most recent call last)",
      "Cell \u001b[1;32mIn[17], line 4\u001b[0m\n\u001b[0;32m      1\u001b[0m long_sun  \u001b[38;5;241m=\u001b[39m long_rate \u001b[38;5;241m*\u001b[39m (one_yr\u001b[38;5;241m-\u001b[39m\u001b[38;5;241m80\u001b[39m) \u001b[38;5;66;03m# assign March 20 as Day 0\u001b[39;00m\n\u001b[0;32m      3\u001b[0m psb_time  \u001b[38;5;241m=\u001b[39m Time( \u001b[38;5;124m'\u001b[39m\u001b[38;5;124m2018-02-16 12:00:00\u001b[39m\u001b[38;5;124m'\u001b[39m, scale\u001b[38;5;241m=\u001b[39m\u001b[38;5;124m'\u001b[39m\u001b[38;5;124mutc\u001b[39m\u001b[38;5;124m'\u001b[39m ) \u001b[38;5;241m+\u001b[39m one_yr \u001b[38;5;241m-\u001b[39m \u001b[38;5;241m1\u001b[39m\n\u001b[1;32m----> 4\u001b[0m psb_altaz \u001b[38;5;241m=\u001b[39m AltAz( obstime\u001b[38;5;241m=\u001b[39mpsb_time, location\u001b[38;5;241m=\u001b[39mpsb )\n",
      "\u001b[1;31mNameError\u001b[0m: name 'psb' is not defined"
     ]
    }
   ],
   "source": [
    "long_sun  = long_rate * (one_yr-80) # assign March 20 as Day 0\n",
    "\n",
    "psb_time  = Time( '2018-02-16 12:00:00', scale='utc' ) + one_yr - 1\n",
    "psb_altaz = AltAz( obstime=psb_time, location=psb )"
   ]
  },
  {
   "cell_type": "code",
   "execution_count": null,
   "metadata": {},
   "outputs": [],
   "source": [
    "sun_time  = get_sun( psb_time )\n",
    "sun_altaz = sun_time.transform_to( psb_altaz )\n",
    "\n",
    "sun_light = sun_altaz.alt.deg > alt_min # or .alt.degree ??\n",
    "sun_day   = one_yr[ sun_light ]"
   ]
  },
  {
   "cell_type": "code",
   "execution_count": null,
   "metadata": {},
   "outputs": [],
   "source": [
    "print( \"Days of direct sunlight in PSB's NW side of the first floor:\", sun_day )"
   ]
  },
  {
   "cell_type": "code",
   "execution_count": null,
   "metadata": {},
   "outputs": [],
   "source": []
  },
  {
   "cell_type": "code",
   "execution_count": null,
   "metadata": {},
   "outputs": [],
   "source": [
    "# Question 4"
   ]
  },
  {
   "cell_type": "code",
   "execution_count": null,
   "metadata": {},
   "outputs": [],
   "source": [
    "long_orl  = -81*u.degree + 12*u.arcminute + 0*u.arcsecond\n",
    "long_gwch =  0*u.degree\n",
    "\n",
    "ra_star  = 5*u.hour + 27*u.minute + 30.0*u.second\n",
    "dec_star = 20*u.degree + 0*u.arcminute + 0*u.arcsecond\n",
    "\n",
    "time_orl  = Time( '2018-02-16 20:04:26', scale='est' )\n",
    "time_gwch = Time( '2018-02-17 00:00:00', scale='utc' )"
   ]
  },
  {
   "cell_type": "code",
   "execution_count": null,
   "metadata": {},
   "outputs": [],
   "source": []
  },
  {
   "cell_type": "code",
   "execution_count": null,
   "metadata": {},
   "outputs": [],
   "source": []
  },
  {
   "cell_type": "code",
   "execution_count": null,
   "metadata": {},
   "outputs": [],
   "source": [
    "# Question 5"
   ]
  },
  {
   "cell_type": "code",
   "execution_count": 6,
   "metadata": {},
   "outputs": [],
   "source": [
    "# time_cal = Time( '2018-02-16 23:05:12', scale='utc' )\n",
    "time_gps = TimeGPS( '2018-02-16 23:05:44', scale='tai' )"
   ]
  },
  {
   "cell_type": "code",
   "execution_count": null,
   "metadata": {},
   "outputs": [],
   "source": []
  },
  {
   "cell_type": "code",
   "execution_count": null,
   "metadata": {},
   "outputs": [],
   "source": []
  },
  {
   "cell_type": "code",
   "execution_count": null,
   "metadata": {},
   "outputs": [],
   "source": [
    "# Question 6"
   ]
  },
  {
   "cell_type": "code",
   "execution_count": null,
   "metadata": {},
   "outputs": [],
   "source": []
  },
  {
   "cell_type": "code",
   "execution_count": null,
   "metadata": {},
   "outputs": [],
   "source": []
  },
  {
   "cell_type": "code",
   "execution_count": null,
   "metadata": {},
   "outputs": [],
   "source": []
  },
  {
   "cell_type": "code",
   "execution_count": null,
   "metadata": {},
   "outputs": [],
   "source": []
  }
 ],
 "metadata": {
  "kernelspec": {
   "display_name": "Python 3 (ipykernel)",
   "language": "python",
   "name": "python3"
  },
  "language_info": {
   "codemirror_mode": {
    "name": "ipython",
    "version": 3
   },
   "file_extension": ".py",
   "mimetype": "text/x-python",
   "name": "python",
   "nbconvert_exporter": "python",
   "pygments_lexer": "ipython3",
   "version": "3.12.0"
  }
 },
 "nbformat": 4,
 "nbformat_minor": 2
}
