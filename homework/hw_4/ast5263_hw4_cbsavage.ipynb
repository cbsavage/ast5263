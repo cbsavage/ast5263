{
 "cells": [
  {
   "cell_type": "code",
   "execution_count": null,
   "metadata": {},
   "outputs": [],
   "source": [
    "# Catalina Savage\n",
    "# AST 5263 - Advanced Observational Astronomy\n",
    "# Homework 4"
   ]
  },
  {
   "cell_type": "code",
   "execution_count": null,
   "metadata": {},
   "outputs": [],
   "source": []
  },
  {
   "cell_type": "code",
   "execution_count": 1,
   "metadata": {},
   "outputs": [
    {
     "ename": "ModuleNotFoundError",
     "evalue": "No module named 'astropy'",
     "output_type": "error",
     "traceback": [
      "\u001b[1;31m---------------------------------------------------------------------------\u001b[0m",
      "\u001b[1;31mModuleNotFoundError\u001b[0m                       Traceback (most recent call last)",
      "Cell \u001b[1;32mIn[1], line 4\u001b[0m\n\u001b[0;32m      1\u001b[0m \u001b[38;5;28;01mimport\u001b[39;00m \u001b[38;5;21;01mnumpy\u001b[39;00m             \u001b[38;5;28;01mas\u001b[39;00m \u001b[38;5;21;01mnp\u001b[39;00m\n\u001b[0;32m      2\u001b[0m \u001b[38;5;28;01mimport\u001b[39;00m \u001b[38;5;21;01mmatplotlib\u001b[39;00m\u001b[38;5;21;01m.\u001b[39;00m\u001b[38;5;21;01mpyplot\u001b[39;00m \u001b[38;5;28;01mas\u001b[39;00m \u001b[38;5;21;01mplt\u001b[39;00m\n\u001b[1;32m----> 4\u001b[0m \u001b[38;5;28;01mimport\u001b[39;00m \u001b[38;5;21;01mastropy\u001b[39;00m\u001b[38;5;21;01m.\u001b[39;00m\u001b[38;5;21;01munits\u001b[39;00m \u001b[38;5;28;01mas\u001b[39;00m \u001b[38;5;21;01mu\u001b[39;00m\n\u001b[0;32m      6\u001b[0m \u001b[38;5;28;01mfrom\u001b[39;00m \u001b[38;5;21;01mastropy\u001b[39;00m\u001b[38;5;21;01m.\u001b[39;00m\u001b[38;5;21;01mcoordinates\u001b[39;00m \u001b[38;5;28;01mimport\u001b[39;00m SkyCoord, EarthLocation, AltAz, get_sun \u001b[38;5;66;03m#, FK5\u001b[39;00m\n\u001b[0;32m      7\u001b[0m \u001b[38;5;28;01mfrom\u001b[39;00m \u001b[38;5;21;01mastropy\u001b[39;00m\u001b[38;5;21;01m.\u001b[39;00m\u001b[38;5;21;01mtime\u001b[39;00m        \u001b[38;5;28;01mimport\u001b[39;00m Time, TimeGPS\n",
      "\u001b[1;31mModuleNotFoundError\u001b[0m: No module named 'astropy'"
     ]
    }
   ],
   "source": [
    "import numpy             as np\n",
    "import matplotlib.pyplot as plt\n",
    "\n",
    "import astropy.units as u\n",
    "\n",
    "from astropy.coordinates import SkyCoord, EarthLocation, AltAz, get_sun #, FK5\n",
    "from astropy.time        import Time, TimeGPS\n",
    "\n",
    "# import datetime as dt"
   ]
  },
  {
   "cell_type": "code",
   "execution_count": null,
   "metadata": {},
   "outputs": [],
   "source": []
  },
  {
   "cell_type": "code",
   "execution_count": null,
   "metadata": {},
   "outputs": [],
   "source": [
    "# Question 1"
   ]
  },
  {
   "cell_type": "code",
   "execution_count": null,
   "metadata": {},
   "outputs": [],
   "source": [
    "# RA in J2000\n",
    "ra_A = 14*u.hour + 39*u.minute + 36.5*u.second\n",
    "ra_B = 14*u.hour + 39*u.minute + 35.1*u.second\n",
    "\n",
    "# declinations\n",
    "dec_A = -60*u.degree + 50*u.arcminute + 2*u.arcsecond\n",
    "dec_B = -60*u.degree + 50*u.arcminute + 15*u.arcsecond\n",
    "\n",
    "# proper motions, RA\n",
    "pm_raA = -3.679*( u.arcsecond / u.year )\n",
    "pm_raB = -3.614*( u.arcsecond / u.year )\n",
    "\n",
    "# proper motions, declination\n",
    "pm_decA =  0.474*( u.arcsecond / u.year )\n",
    "pm_decB = 0.803*( u.arcsecond / u.year )"
   ]
  },
  {
   "cell_type": "code",
   "execution_count": null,
   "metadata": {},
   "outputs": [],
   "source": [
    "# epochs to use in calculations\n",
    "epoch = Time( np.linspace(2000,2050,100), format='decimalyear' )"
   ]
  },
  {
   "cell_type": "code",
   "execution_count": null,
   "metadata": {},
   "outputs": [],
   "source": [
    "# calculate apparent motions in difference epochs\n",
    "coord_A = SkyCoord( ra=ra_A,\n",
    "                    dec=dec_A, \n",
    "                    pm_ra_cosdec=pm_raA,\n",
    "                    pm_dec=pm_decA, \n",
    "                    obstime=epoch )\n",
    "\n",
    "coord_B = SkyCoord( ra=ra_B,\n",
    "                    dec=dec_B,\n",
    "                    pm_ra_cosdec=pm_raB,\n",
    "                    pm_dec=pm_decB, \n",
    "                    obstime=epoch )"
   ]
  },
  {
   "cell_type": "code",
   "execution_count": null,
   "metadata": {},
   "outputs": [],
   "source": [
    "sep        = coord_A.separation( coord_B )\n",
    "sep_argmin = np.argmin( sep )"
   ]
  },
  {
   "cell_type": "code",
   "execution_count": null,
   "metadata": {},
   "outputs": [],
   "source": [
    "sep_epoch = epoch[ sep_argmin ]\n",
    "sep_min  = sep.min()\n",
    "# sep_min2  = np.min( sep )"
   ]
  },
  {
   "cell_type": "code",
   "execution_count": null,
   "metadata": {},
   "outputs": [],
   "source": [
    "sep_arcsec = sep_min.to( u.arcsecond )\n",
    "# sep_arcsec2 = sep_min2.to( u.arcsecond )"
   ]
  },
  {
   "cell_type": "code",
   "execution_count": null,
   "metadata": {},
   "outputs": [],
   "source": [
    "print( 'Epoch of minimal separation: ', sep_epoch )\n",
    "print( 'Minimum separation in arcseconds:', sep_arcsec )\n",
    "# print( 'Minimum separation in arcseconds:', sep_arcsec2 )"
   ]
  },
  {
   "cell_type": "code",
   "execution_count": null,
   "metadata": {},
   "outputs": [],
   "source": []
  },
  {
   "cell_type": "code",
   "execution_count": null,
   "metadata": {},
   "outputs": [],
   "source": [
    "# Question 2"
   ]
  },
  {
   "cell_type": "code",
   "execution_count": 3,
   "metadata": {},
   "outputs": [],
   "source": [
    "# t = np.arange( 1582,10000.1 )\n",
    "t = np.linspace( 1582,10000 )\n",
    "\n",
    "t_1 = t - 1580\n",
    "t_2 = t - 1600\n",
    "t_3 = t - 1582"
   ]
  },
  {
   "cell_type": "code",
   "execution_count": null,
   "metadata": {},
   "outputs": [],
   "source": [
    "t_leap = t_1//4 - t_2//100 + t_2//400"
   ]
  },
  {
   "cell_type": "code",
   "execution_count": null,
   "metadata": {},
   "outputs": [],
   "source": [
    "days_cnt  = t_3*365 + t_leap\n",
    "days_trop = t_3*365.24219"
   ]
  },
  {
   "cell_type": "code",
   "execution_count": null,
   "metadata": {},
   "outputs": [],
   "source": [
    "# offset\n",
    "tau = days_cnt - days_trop\n",
    "print( tau )"
   ]
  },
  {
   "cell_type": "code",
   "execution_count": null,
   "metadata": {},
   "outputs": [],
   "source": [
    "# ( a )"
   ]
  },
  {
   "cell_type": "code",
   "execution_count": null,
   "metadata": {},
   "outputs": [],
   "source": [
    "# plot offset as a function of year (??)\n",
    "plt.figure( figsize=(8,6) )\n",
    "plt.plot( t, tau )\n",
    "\n",
    "plt.title( 'Offset Between the Calendar and Tropical Years' )\n",
    "\n",
    "plt.xlabel( 'Year' )\n",
    "plt.ylabel( 'Offset, days' )\n",
    "\n",
    "plt.show()"
   ]
  },
  {
   "cell_type": "code",
   "execution_count": null,
   "metadata": {},
   "outputs": [],
   "source": []
  },
  {
   "cell_type": "code",
   "execution_count": null,
   "metadata": {},
   "outputs": [],
   "source": [
    "# Question 3"
   ]
  },
  {
   "cell_type": "code",
   "execution_count": null,
   "metadata": {},
   "outputs": [],
   "source": [
    "az = [ 53, 233 ]\n",
    "\n",
    "alt_min = 20*u.deg # altitude of sun in sky\n",
    "\n",
    "lat_psb   = 28.6*u.deg\n",
    "long_ecl  = 0*u.deg\n",
    "long_rate =  360*u.deg / 365.25 #*u.day"
   ]
  },
  {
   "cell_type": "code",
   "execution_count": null,
   "metadata": {},
   "outputs": [],
   "source": [
    "# psb = EarthLocation( lat=lat_psb, lon=-(180-az[0]), height=0 )\n",
    "psb = EarthLocation( lat=lat_psb, lon=-(180-az[long_ecl]), height=0 )\n",
    "# assuming height means elevation above sea-level, FLORIDA IS FLAT AND WILL BE EATEN BY THE OCEAN IN THE FUTURE"
   ]
  },
  {
   "cell_type": "code",
   "execution_count": null,
   "metadata": {},
   "outputs": [],
   "source": [
    "# array containing number of days in a year\n",
    "# one_yr = np.arange( 1, 366 )\n",
    "one_yr = np.linspace( 1, 365 )"
   ]
  },
  {
   "cell_type": "code",
   "execution_count": 2,
   "metadata": {},
   "outputs": [],
   "source": [
    "long_sun  = long_rate * (one_yr-80) # assign March 20 as Day 0\n",
    "\n",
    "psb_time  = Time( '2018-02-16 12:00:00', scale='utc' ) + one_yr - 1\n",
    "psb_altaz = AltAz( obstime=psb_time, location=psb )"
   ]
  },
  {
   "cell_type": "code",
   "execution_count": null,
   "metadata": {},
   "outputs": [],
   "source": [
    "sun_time  = get_sun( psb_time )\n",
    "sun_altaz = sun_time.transform_to( psb_altaz )\n",
    "\n",
    "sun_light = sun_altaz.alt.deg > alt_min # or .alt.degree ??\n",
    "sun_day   = one_yr[ sun_light ]"
   ]
  },
  {
   "cell_type": "code",
   "execution_count": null,
   "metadata": {},
   "outputs": [],
   "source": [
    "print( \"Days of direct sunlight in PSB's NW side of the first floor:\", sun_day )"
   ]
  },
  {
   "cell_type": "code",
   "execution_count": null,
   "metadata": {},
   "outputs": [],
   "source": []
  },
  {
   "cell_type": "code",
   "execution_count": null,
   "metadata": {},
   "outputs": [],
   "source": [
    "# Question 4"
   ]
  },
  {
   "cell_type": "code",
   "execution_count": null,
   "metadata": {},
   "outputs": [],
   "source": [
    "long_orl  = -81*u.degree + 12*u.arcminute + 00*u.arcsecond\n",
    "long_gwch =  00*u.degree\n",
    "\n",
    "ra_star  = 5*u.hour + 27*u.minute + 30.0*u.second\n",
    "dec_star = 20*u.degree + 00*u.arcminute + 00*u.arcsecond\n",
    "\n",
    "time_orl  = Time( '2018-02-16 20:04:26', scale='est' )\n",
    "time_gwch = Time( '2018-02-17 00:00:00', scale='utc' )"
   ]
  },
  {
   "cell_type": "code",
   "execution_count": null,
   "metadata": {},
   "outputs": [],
   "source": []
  },
  {
   "cell_type": "code",
   "execution_count": null,
   "metadata": {},
   "outputs": [],
   "source": []
  },
  {
   "cell_type": "code",
   "execution_count": null,
   "metadata": {},
   "outputs": [],
   "source": [
    "# Question 5"
   ]
  },
  {
   "cell_type": "code",
   "execution_count": 6,
   "metadata": {},
   "outputs": [],
   "source": [
    "# time_cal = Time( '2018-02-16 23:05:12', scale='utc' )\n",
    "time_gps = TimeGPS( '2018-02-16 23:05:44', scale='tai' )"
   ]
  },
  {
   "cell_type": "code",
   "execution_count": null,
   "metadata": {},
   "outputs": [],
   "source": []
  }
 ],
 "metadata": {
  "kernelspec": {
   "display_name": "base",
   "language": "python",
   "name": "python3"
  },
  "language_info": {
   "codemirror_mode": {
    "name": "ipython",
    "version": 3
   },
   "file_extension": ".py",
   "mimetype": "text/x-python",
   "name": "python",
   "nbconvert_exporter": "python",
   "pygments_lexer": "ipython3",
   "version": "3.12.0"
  }
 },
 "nbformat": 4,
 "nbformat_minor": 2
}
